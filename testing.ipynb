{
 "cells": [
  {
   "cell_type": "code",
   "execution_count": 30,
   "metadata": {},
   "outputs": [
    {
     "name": "stdout",
     "output_type": "stream",
     "text": [
      "Requirement already satisfied: opencv-python in /Users/daaa/opt/miniconda3/envs/tensorflow/lib/python3.9/site-packages (4.7.0.68)\n",
      "Requirement already satisfied: numpy>=1.19.3 in /Users/daaa/opt/miniconda3/envs/tensorflow/lib/python3.9/site-packages (from opencv-python) (1.22.4)\n",
      "Requirement already satisfied: typeguard in /Users/daaa/opt/miniconda3/envs/tensorflow/lib/python3.9/site-packages (2.13.3)\n"
     ]
    }
   ],
   "source": [
    "!pip install opencv-python\n",
    "!pip install --upgrade typeguard"
   ]
  },
  {
   "cell_type": "code",
   "execution_count": null,
   "metadata": {},
   "outputs": [],
   "source": [
    "# installing peekingduck from PyPI\n",
    "!pip install peekingduck --no-dependencies\n",
    "!peekingduck verify-install"
   ]
  },
  {
   "cell_type": "code",
   "execution_count": null,
   "metadata": {},
   "outputs": [],
   "source": []
  }
 ],
 "metadata": {
  "kernelspec": {
   "display_name": "tensorflow",
   "language": "python",
   "name": "python3"
  },
  "language_info": {
   "codemirror_mode": {
    "name": "ipython",
    "version": 3
   },
   "file_extension": ".py",
   "mimetype": "text/x-python",
   "name": "python",
   "nbconvert_exporter": "python",
   "pygments_lexer": "ipython3",
   "version": "3.9.13"
  },
  "orig_nbformat": 4,
  "vscode": {
   "interpreter": {
    "hash": "a8e05cf63ac726f038dfab79b33563c668cd6ae1db058d281eef76953685277a"
   }
  }
 },
 "nbformat": 4,
 "nbformat_minor": 2
}
